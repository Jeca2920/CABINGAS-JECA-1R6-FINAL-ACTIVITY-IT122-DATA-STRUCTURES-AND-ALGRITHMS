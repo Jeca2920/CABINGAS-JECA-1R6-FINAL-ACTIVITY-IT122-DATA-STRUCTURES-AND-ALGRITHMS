{
 "cells": [
  {
   "cell_type": "code",
   "execution_count": null,
   "id": "c41e045c",
   "metadata": {},
   "outputs": [],
   "source": [
    "print(\"I Discuss your learnings on from Chapter 9 to Chapter 17\")\n",
    "print(\"\")\n",
    "print(\"Chapter 9\")\n",
    "print(\"\")\n",
    "print(\"In a computer science, a graph is an abstract data type that is meant to implement the undirected graph and directed graph concepts from the field of graph theory within a math. A graph data structure consists of a finite (and possibly mutable) set of vertices (also called nodes or points), together with a set of unordered pairs of these vertices for an undirected graph or a set of ordered pairs for a directed graph. These pairs are known as edges (also called links or lines), and for a directed graph are also known as arrows. Vertex is a node of the graph is represented as a vertex.  In the following example, the labeled circle represents vertices. Vertices Thus, A to G are vertices. We can represent them using an array as shown in the following image. Here A can be identified by index 0. B can be identified using index 1 and so on and edge represents a path between two vertices or a line between two vertices. In the following example, the lines from A to B, B to C, and so on represents edges. We can use a two-dimensional -dimensional array to represent an array as shown in the following image.  Two node or vertices are adjacent if they are connected to each other through an edge. In the following example, B is adjacent to A, C is adjacent to B, and soon and also the path is Path represent represents a sequence of edges between the two vertices. In the following example, ABCD represents a path from A to D.\")\n",
    "print(\"\")\n"
   ]
  },
  {
   "cell_type": "code",
   "execution_count": null,
   "id": "a59161c6",
   "metadata": {},
   "outputs": [],
   "source": [
    "print(\"Chapter 10\")\n",
    "print(\"\")\n",
    "print(\"Binary search looks for a particular item by comparing the middle most item of the collection. If a match occurs, then the index of item is returned. If the middle item is greater than the item, then the item is searched in the sub-array to the left of the middle item. Bubble sort is a simple sorting algorithm. This sorting s algorithm is comparison-based arison-based algorithm in which each pair of adjacent elements is compared and the elements are swapped if they are not in order. A binary search to work, it is mandatory for the target array to be sorted. We shall learn the process of binary search with a pictorial example. The following is our sorted array and let us assume that we need to search the location of value 31 using binary search. Binary search looks for a particular item by comparing the middle most item of the collection.If a match occurs, then the index of item is returned. If the middle item is greater than the item, then the item is searched in the sub-array to the left of the middle item\")\n",
    "print(\"\")\n",
    "\n"
   ]
  },
  {
   "cell_type": "code",
   "execution_count": null,
   "id": "b5c96762",
   "metadata": {},
   "outputs": [],
   "source": [
    "print(\"Chapter 11\")\n",
    "print(\"\")\n",
    "print(\"Bubble sort is a simple sorting algorithm. This sorting algorithm is comparison-based algorithm in which each pair of adjacent elements is compared and the elements are swapped if they are not in order. This algorithm is not suitable for large data sets as its average and worst case complexity are of Ο(n2) where n is the number of items. This is an in-place comparison-based sorting algorithm. Shell sort is a highly efficient sorting algorithm and is based on insertion sort algorithm. This sorting algorithm is an in-place comparison-based algorithm in which the list is divided into two parts, the sorted part at the left end and the unsorted part at the right end. Initially, the sorted part is empty and the unsorted part is the entire list. I observe in algorithm that Bubble Sort compares each pair of array element unless the whole array is completely sorted in an ascending order. This may cause a few complexity issues like what if the array needs no more swapping as all the elements are already ascending. \")\n",
    "print(\"\")\n"
   ]
  },
  {
   "cell_type": "code",
   "execution_count": null,
   "id": "12a0e991",
   "metadata": {},
   "outputs": [],
   "source": [
    "print(\"Chapter 12\")\n",
    "print(\"\")\n",
    "print(\"Quicksort is an in-place sorting algorithm. Developed by British computer scientist Tony Hoare in 1959[1] and published in 1961, it is still a commonly used algorithm for sorting. When implemented well, it can be somewhat faster than merge sort and about two or three times faster than heapsort. Quick sort is a divide-and-conquer algorithm. It works by selecting a 'pivot' element from the array and partitioning the other elements into two sub-arrays, according to whether they are less than or greater than the pivot. For this reason, it is sometimes called partition-exchange sort. The sub-arrays are then sorted recursively. This can be done in-place, requiring small additional amounts of memory to perform the sorting. Quick sort is a comparison sort, meaning that it can sort items of any type for which a \"less-than\" relation (formally, a total order) is defined. Efficient implementations of Quick sort are not a stable sort, meaning that the relative order of equal sort items is not preserved. Mathematical analysis of quick sort shows that, on average, the algorithm takes O(n log n) comparisons to sort n items. In the worst case, it makes O(n2) comparisons, though this behavior is rare.Quick sort is a highly efficient sorting algorithm and is based on partitioning of array of data into smaller arrays. A large array is partitioned into two arrays one of which holds values smaller than the specified value, say pivot, based on which the partition is made and another array holds values greater than the pivot value. Quick sort partitions an array and then calls itself recursively twice to sort the two resulting subarrays. This algorithm is quite efficient for large-sized data sets as its average and worst-case complexity are O(n2), respectively. \")\n",
    "print(\"\")\n",
    "\n"
   ]
  },
  {
   "cell_type": "code",
   "execution_count": null,
   "id": "edd81d6f",
   "metadata": {},
   "outputs": [],
   "source": [
    "print(\"Chapter 13\")\n",
    "print(\"\")\n",
    "print(\"This is an in-place comparison-based sorting algorithm. Here, a sub-list is maintained which is always sorted. For example, the lower part of an array is maintained to be sorted. An element which is to be 'inserted in this sorted sub-list, has to find its appropriate place and then it has to be inserted there. Hence the name, insertion sort. The array is searched sequentially and unsorted items are moved and inserted into the sorted sub-list (in the same array). This algorithm is not suitable for large data sets as its average and worst case complexity are of Ο(n2), where n is the number of items. \")\n",
    "print(\"\")\n"
   ]
  },
  {
   "cell_type": "code",
   "execution_count": null,
   "id": "bf3bfdb8",
   "metadata": {},
   "outputs": [],
   "source": [
    "print(\"Chapter 14\")\n",
    "print(\"\")\n",
    "print(\"Merge sort is a sorting technique based on divide and conquer technique. With worst-case time complexity being Ο(n log n), it is one of the most respected algorithms. Merge sort first divides the array into equal halves and then combines them in a sorted manner. Merge sort keeps on dividing the list into equal halves until it can no more be divided. By definition, if it is only one element in the list, it is sorted. Then, merge sort combines the smaller sorted lists keeping the new list sorted too is an efficient, general-purpose, and comparison-based sorting algorithm. Most implementations produce a stable sort, which means that the order of equal elements is the same in the input and output. Merge sort is a divide and conquer algorithm that was invented by John von Neumann in 1945.\")\n",
    "print(\"\")\n"
   ]
  },
  {
   "cell_type": "code",
   "execution_count": null,
   "id": "c390563f",
   "metadata": {},
   "outputs": [],
   "source": [
    "\n",
    "print(\"Chapter 15\")\n",
    "print(\"\")\n",
    "print(\"Shell sort is a highly efficient sorting algorithm and is based on insertion sort algorithm. This algorithm avoids large shifts as in case of insertion sort, if the smaller value is to the far right and has to be moved to the far left. This algorithm uses insertion sort on a widely spread elements, first to sort them and then sorts the less widely spaced elements. This spacing is termed as interval. This algorithm is quite efficient for medium-sized data sets as its average and worst-case complexity of this algorithm depends on the gap sequence the best known is Ο(n), where n is the number of items.\")\n",
    "print(\"\")\n",
    "\n"
   ]
  },
  {
   "cell_type": "code",
   "execution_count": null,
   "id": "4779ebd7",
   "metadata": {},
   "outputs": [],
   "source": [
    "print(\"Chapter 16\")\n",
    "print(\"\")\n",
    "print(\"Shell sort is a highly efficient sorting algorithm and is based on insertion sort algorithm. This algorithm avoids large shifts as in case of insertion sort, if the smaller value is to the far right and has to be moved to the far left. This algorithm uses insertion sort on a widely spread elements, first to sort them and then sorts the less widely spaced elements. This spacing is termed as interval.\")\n",
    "print(\"\")\n"
   ]
  },
  {
   "cell_type": "code",
   "execution_count": null,
   "id": "434ffaaa",
   "metadata": {},
   "outputs": [],
   "source": [
    "print(\"Chapter 17\")\n",
    "print(\"\")\n",
    "print(\"In recursion, a function or method has the ability of calling itself to solve the problem. The process of recursion involves solving a problem by turning it into smaller varieties of itself. The process in which a function calls itself could happen directly as well as indirectly Some computer programming languages allow a module or function to call itself. This technique is known as recursion. In recursion, a function α either calls itself directly or calls a function β that in turn calls the original function α. The function α is called recursive function.\")\n",
    "print(\"\")\n"
   ]
  },
  {
   "cell_type": "code",
   "execution_count": null,
   "id": "ac92dce7",
   "metadata": {},
   "outputs": [],
   "source": [
    "\n",
    "print(' II Answer the following questions:')\n",
    "print('')\n",
    "print('1. Implement the simple methods get_num and get_den that will return the numerator and denominator of a fraction.')\n",
    "print('')\n",
    "print('Ans: def getNum(self): return self.num def getDen(self): return self.den')\n",
    "print('')\n",
    "print('2. Research the __radd__ method. How does it differ from __add__? When is it used? Implement __radd__')\n",
    "print('')\n",
    "print('Ans: def __radd__(self, other): if other == 0: return self else: other = Fraction(other, 1) return self.__add__(other)')\n",
    "print('')\n",
    "print('3. Research the __repr__ method. How does it differ from __str__? When is it used? Implement __repr__.')\n",
    "print('')\n",
    "print('Ans:def __repr__(self): return %s(%r) % (self.__class__, self.__str__()) def show(self): print(self.num, \"/\", self.den) ')\n",
    "print('')\n",
    "print('4. The most simple arithmetic circuit is known as the half adder. Research the simple half-adder circuit. Implement this circuit.')\n",
    "print('')\n",
    "print('Ans: Half adder is a combinational circuit, which performs the addition of two binary numbers A and B are of single bit. It produces two outputs sum, S & carry, C. The Truth table of Half adder is shown below. Inputs Outputs A B C S 0 0 0 0 0 1 0 1 1 0 0 1 1 1 1 0')\n",
    "print('')\n",
    "print('5.Design a class to represent a playing card and another one to represent a deck of cards. Using these two classes, implement your favorite card game. ')\n",
    "print('')\n",
    "print('Ans: When you initialize the Deck object, the two for loops of _init_ create Card objects representing all the cards in a 52-card deck and add them to the card list. The first loop goes from 2 to 15 because the first value of a card is 2 and the last value of a card is 14 (the ace). Each time around the inner loop, a new card is created using the integer from the outer loop as the value (i.e. 14 for an ace) and the integer from the inner loop as the suit. This process creates 52 cards – one card for each combination of suit and value. After the method creates the cards, the shuffle method of the shuffle module randomly rearranges the items in the card list; imitating the shuffle of a deck of cards. Our deck has another method called rm_card which removes and returns a card from the card list, or returns None if it is empty.')\n",
    "print('')\n",
    "print('7.Consider a real life situation. Formulate a question and then design a simulation that can help to answer it. Possible situations include:Cars lined up at a car washCustomers at a grocery store check-outAirplanes taking off and landing on a runwayA bank teller ')\n",
    "print('')\n",
    "print('8.Implement a queue using linked lists.')\n",
    "print('')\n",
    "print(' Ans: A linked list (LL) node # to store a queue entry class Node: def __init__(self, data): self.data = data self.next = None # A class to represent a queue # The queue, front stores the front node # of LL and rear stores the last node of LL class Queue: def __init__(self): self.front = self.rear = None def isEmpty(self): return self.front == None # Method to add an item to the queue def EnQueue(self, item): temp = Node(item) if self.rear == None: self.front = self.rear = temp return self.rear.next = temp self.rear = temp # Method to remove an item from queue def DeQueue(self): if self.isEmpty(): return temp = self.front self.front = temp.next if(self.front == None): self.rear = None # Driver Code if _name__== : q = Queue() q.EnQueue(10) q.EnQueue(20) q.DeQueue() q.DeQueue() q.EnQueue(30) q.EnQueue(40) q.EnQueue(50) q.DeQueue() print(\"Queue Front \" + str(q.front.data)) print\"Queue Rear \" + str(q.rear.data))')\n",
    "print('')\n",
    "print('9. Write a recursive function to compute the factorial of a number.')\n",
    "print('')\n",
    "print('Ans: def recur_factorial(n): if n == 1: return n else: return n*recur_factorial(n-1) num = 7 # check if the number is negative if num < 0: print(\"Sorry, factorial does not exist for negative numbers\") elif num == 0: print(\"The factorial of 0 is 1\") else: print(\"The factorial of\", num, \"is\", recur_factorial(num))')\n",
    "print('')\n",
    "print('10. Set up a random experiment to test the difference between a sequential search and a binary search on a list of integers.')\n",
    "print('')\n",
    "print('Ans:.\tWe toss a coin three times and observe the sequence of heads/tails. The sample space here may be defined as S={(H,H,H),(H,H,T),(H,T,H),(T,H,H),(H,T,T),(T,H,T),(T,T,H),(T,T,T)}. Our goal is to assign probability to certain events. For example, suppose that we would like to know the probability that the outcome of rolling a fair die is an even number. In this case, our event is the set E={2,4,6}. If the result of our random experiment belongs to the set E, we say that the event E has occurred. Thus an event is a collection of possible outcomes. In other words, an event is a subset of the sample space to which we assign a probability. Although we have not yet discussed how to find the probability of an event, you might be able to guess that the probability of {2,4,6} is 50 percent which is the same as 12 in the probability theory convention. Outcome: A result of a random experiment. Sample Space: The set of all possible outcomes. Event: A subset of the sample space.')\n",
    "print('')\n",
    "print('11.Suppose you are a computer scientist/art thief who has broken into a major art gallery. All you have with you to haul out your stolen art is your knapsack which only holds W pounds of art, but for every piece of art you know its value and its weight. Write a dynamic programming function to help you maximize your profit. Here is a sample problem for you to use to get started: Suppose your knapsack can hold a total weight of 20. You have 5 items as follows: ')\n",
    "print('')\n",
    "print('This problem is called the string edit distance problem, and is quite useful in many areas of research. Suppose that you want to transform the word “algorithm” into the word “alligator.” For each letter you can either copy the letter from one word to another at a cost of 5, you can delete a letter at cost of 20, or insert a letter at a cost of 20. The total cost to transform one word into another is used by spell check programs to provide suggestions for words that are close to one another.')\n"
   ]
  },
  {
   "cell_type": "code",
   "execution_count": null,
   "id": "c79239cf",
   "metadata": {},
   "outputs": [],
   "source": []
  },
  {
   "cell_type": "code",
   "execution_count": null,
   "id": "e367ce3b",
   "metadata": {},
   "outputs": [],
   "source": []
  }
 ],
 "metadata": {
  "kernelspec": {
   "display_name": "Python 3",
   "language": "python",
   "name": "python3"
  },
  "language_info": {
   "codemirror_mode": {
    "name": "ipython",
    "version": 3
   },
   "file_extension": ".py",
   "mimetype": "text/x-python",
   "name": "python",
   "nbconvert_exporter": "python",
   "pygments_lexer": "ipython3",
   "version": "3.8.6"
  }
 },
 "nbformat": 4,
 "nbformat_minor": 5
}
